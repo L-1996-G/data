{
  "nbformat": 4,
  "nbformat_minor": 0,
  "metadata": {
    "colab": {
      "name": "week2.ipynb",
      "private_outputs": true,
      "provenance": [],
      "collapsed_sections": [],
      "authorship_tag": "ABX9TyMLPbzSzu2kwcP8BgHOgUUK",
      "include_colab_link": true
    },
    "kernelspec": {
      "name": "ir",
      "display_name": "R"
    },
    "language_info": {
      "name": "R"
    }
  },
  "cells": [
    {
      "cell_type": "markdown",
      "metadata": {
        "id": "view-in-github",
        "colab_type": "text"
      },
      "source": [
        "<a href=\"https://colab.research.google.com/github/L-1996-G/test/blob/main/week2.ipynb\" target=\"_parent\"><img src=\"https://colab.research.google.com/assets/colab-badge.svg\" alt=\"Open In Colab\"/></a>"
      ]
    },
    {
      "cell_type": "markdown",
      "metadata": {
        "id": "D73NpSHer9Qe"
      },
      "source": [
        "![download.png](data:image/png;base64,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)"
      ]
    },
    {
      "cell_type": "markdown",
      "metadata": {
        "id": "RXGdQnVPmnat"
      },
      "source": [
        "[Tidyverse](https://www.tidyverse.org/)"
      ]
    },
    {
      "cell_type": "code",
      "metadata": {
        "id": "h46FFaeAQk2A"
      },
      "source": [
        "install.packages(\"tidyverse\")"
      ],
      "execution_count": null,
      "outputs": []
    },
    {
      "cell_type": "code",
      "metadata": {
        "id": "S762Q9b6Q0iu"
      },
      "source": [
        "library(tidyverse)\n",
        "library(lubridate)"
      ],
      "execution_count": null,
      "outputs": []
    },
    {
      "cell_type": "markdown",
      "metadata": {
        "id": "JKxd5IbXvS2C"
      },
      "source": [
        "# Part 1: სვეტებზე ოპერაციები "
      ]
    },
    {
      "cell_type": "markdown",
      "metadata": {
        "id": "IjIW9cgBSHdE"
      },
      "source": [
        "#### **მონაცემთა შემოტანა და ცვლადების ტიპების ცვლილება**"
      ]
    },
    {
      "cell_type": "code",
      "metadata": {
        "id": "99CJ564aQ4Lw"
      },
      "source": [
        "getwd()\n",
        "setwd('/content')\n",
        "df = read_csv('tidy_df.csv') "
      ],
      "execution_count": null,
      "outputs": []
    },
    {
      "cell_type": "code",
      "metadata": {
        "id": "_P2lpXy6SF-u"
      },
      "source": [
        "glimpse(df)"
      ],
      "execution_count": null,
      "outputs": []
    },
    {
      "cell_type": "markdown",
      "metadata": {
        "id": "NZldcYbMebuS"
      },
      "source": [
        "##### მონაცემთა შემოტანის დროს შევცვალოთ ცვლადების ტიპები:"
      ]
    },
    {
      "cell_type": "code",
      "metadata": {
        "id": "m4aVhLVUSPuY"
      },
      "source": [
        "df = read_csv(\n",
        "  'tidy_df.csv',\n",
        "col_type = cols(\n",
        "  Region = col_factor(),\n",
        "  Date = col_date('%d/%m/%Y'),\n",
        "  Tech = col_factor(),\n",
        "  #Var_2 = col_skip(), არ შემოიტანს Var_2 ცვლადს \n",
        "  Var_1 = col_number()\n",
        ")\n",
        ")\n",
        "\n",
        "glimpse(df)"
      ],
      "execution_count": null,
      "outputs": []
    },
    {
      "cell_type": "markdown",
      "metadata": {
        "id": "BmERwDVgYx1v"
      },
      "source": [
        "##### **Pipe (`%>%`) ოპერატორი**\n",
        "Pipe ოპერატორით გამოიყენება იმისათვის, რომ არგუმენტი მიეწოდოს ფუნქციას. მისი საშუალებით ჩაწერილი კოდი პირობითად ორ ნაწილად შეიძლება გაიყოს. `%>%`-ის მარჯვნივ დგას ფუნქცია, ხოლო მარცხნივ - არგუმენტი; მაშასადამე\n",
        "\n",
        "\n",
        "*   `function(X)` არის იგივე, რაც `X %>% function()`\n",
        "*   `function_2(function_1(X))` არის იგივე, რაც:\n",
        "\n",
        "\n",
        "```\n",
        "X %>% \n",
        "function_1() %>% \n",
        "function_2()\n",
        "```\n",
        "\n",
        "\n",
        "\n"
      ]
    },
    {
      "cell_type": "markdown",
      "metadata": {
        "id": "h67Qh0swXEO6"
      },
      "source": [
        "ალტერნატიული მეთოდი სვეტების ტიპის ცვლილების"
      ]
    },
    {
      "cell_type": "code",
      "metadata": {
        "id": "mCC3J18CTCNv"
      },
      "source": [
        "df <- df %>% mutate_if(is.character, as.factor) #თუ ყველა character-ის გადაყვანა გვინდა factor-ად\n",
        "df$Region <- as.factor(df$Region)  # თუ მხოლოდ ერთის ცვლადის ტიპის შეცვლა გვინდა\n",
        "str(df$Bank)\n",
        "str(df$Region)"
      ],
      "execution_count": null,
      "outputs": []
    },
    {
      "cell_type": "markdown",
      "metadata": {
        "id": "5-i19td1Ypqd"
      },
      "source": [
        "#### **სვეტების არჩევა: Select() ფუნქცია**\n",
        "ხშირად, data.frame-ში არსებული ყველა სვეტი ჩვენთვის საინტერესო არ არის. მონაცემებთან მუშაობის გასამარტივებლად უმჯობესია მხოლოდ საინტერესო სვეტებით ახალი `data.frame`/`tibble`-ის შექმნა. მთლიანი data.frame-დან რამდენიმე ცვლადის შერჩევა შესაძლებელია `select()` ფუნქციის საშუალებით:"
      ]
    },
    {
      "cell_type": "code",
      "metadata": {
        "id": "T9YYBdxFOPY_"
      },
      "source": [
        "df %>%\n",
        "select(Date, Bank, RoU, ass) %>%\n",
        "slice_sample(n=3)"
      ],
      "execution_count": null,
      "outputs": []
    },
    {
      "cell_type": "markdown",
      "metadata": {
        "id": "HXVtZTj9b8Oq"
      },
      "source": [
        "როდესაც ჩვენთვის საინტერესოა ცვლადების უმრავლესობა, მაშინ უმჯობესია არაგამოყენებადი ცვლადების გამორიცხვა `select()`-ისა და `-` ოპერატორის საშუალებით:"
      ]
    },
    {
      "cell_type": "code",
      "metadata": {
        "id": "zCCh0cEGcSK8"
      },
      "source": [
        "df %>% select(-c(Region, Loun)) %>%\n",
        "slice_sample(n=4)"
      ],
      "execution_count": null,
      "outputs": []
    },
    {
      "cell_type": "markdown",
      "metadata": {
        "id": "BKmNyi-Zow8D"
      },
      "source": [
        "`select()`-თან ერთად გამოიყენება დამხმარე ფუნქციები:\n",
        "\n",
        "*   `contains()`\n",
        "*   `starts_with()`\n",
        "*   `ends_with()`\n",
        "მათი გამოყენება მოსახერხებელია, როდესაც გვინდა შევარჩიოთ ისეთი ცვლადები, რომელთა დასახელებებში ფიგურირებს საერთო სიმბოლოები. დავუშვათ გვინდა შევარჩიოთ ყველა ცვლადი რომელიც შეიცავს `s` სიმბოლოს (შეიძლება დაგვჭირდეს, მაგალითად, `date`-ის შემცველი ცვლადების არჩევა):\n",
        "\n"
      ]
    },
    {
      "cell_type": "code",
      "metadata": {
        "id": "hI_JHtjWsl84"
      },
      "source": [
        "df %>% \n",
        "select(contains('s'))%>%\n",
        "slice_sample(n=3)"
      ],
      "execution_count": null,
      "outputs": []
    },
    {
      "cell_type": "code",
      "metadata": {
        "id": "85CvJhMos02z"
      },
      "source": [
        "# შევარჩიოთ ცვლადი, რომელიც იწყება `a` სიმბოლოთი\n",
        "df %>% select(starts_with('a')) %>%\n",
        "slice_sample(n=3)"
      ],
      "execution_count": null,
      "outputs": []
    },
    {
      "cell_type": "markdown",
      "metadata": {
        "id": "PGt-eTRCabiO"
      },
      "source": [
        "##### **სევეტებისთვის ადგილების შეცვლა: relocate()**\n",
        "`select()` ფუნქციის საშუალებით, ასევე, შესაძლებელია სვეტების გადაჯგუფება იმგვარად, რომ ჩვენთვის საინტერესო სვეტები მოექცნენ სასურველ ადგილას. დავუშვათ ჩვენ გვსურს `Date`, `Bank`, `Depusit` და `ass` ცვლადები მოექცნენ თავში, ხოლო შემდეგ მნიშვნელობა აღარ აქვს სვეტების დალაგებას. ამის გაკეთება შესაძლებელია შემდეგი სინტაქსით:"
      ]
    },
    {
      "cell_type": "code",
      "metadata": {
        "id": "Kcw14XV0aE9r"
      },
      "source": [
        "df %>% select(Date, Bank, Depusit, ass, everything())%>% # everything() ყველა დანარცენ ცვლადს გადაიტანს ass-ის შემდეგ\n",
        "slice_sample(n=4)"
      ],
      "execution_count": null,
      "outputs": []
    },
    {
      "cell_type": "markdown",
      "metadata": {
        "id": "CONpwWd1efKf"
      },
      "source": [
        "სვეტების მოძრაობა ასევე შესაძლებელია `relocate` ფუნქციის საშუალებით, რომელსაც შემდეგი სახის სინტაქსი აქვს:\n",
        "\n",
        "\n",
        "```\n",
        "relocate(.data, ..., .before = NULL, .after = NULL)\n",
        "```\n",
        "\n",
        "დავუშვათ გვსურს `RoU` ცვლადის გაანალიზება დროით ჭრილში. უმჯობესი იქნება თუ ამ ცვლადს მოვახვედრებთ `Date` ცვლადის წინ ან შემდეგ:"
      ]
    },
    {
      "cell_type": "code",
      "metadata": {
        "id": "-7IrQQXYa93M"
      },
      "source": [
        "df %>%\n",
        "relocate(RoU, .after = Date) %>%\n",
        "slice_sample(n=3)\n"
      ],
      "execution_count": null,
      "outputs": []
    },
    {
      "cell_type": "markdown",
      "metadata": {
        "id": "_0xhXGTJhOL5"
      },
      "source": [
        "ზოგჯერ ჩვენთვის მნიშვნელოვანია რაიმე ტიპის ცვლადების არჩევა, მაგალითად, მხოლოდ რიცხვითი ცვლადების ან ფაქტორული ცვლადების. ეს შესაძლებელია `select` ფუნქციის, `where`-ისა და `is.*` არგუმენტის საშუალებით, სადაც `*`-ის ნაცვლად ჩვენთვის სასურველი ტიპია ნაგულისხმევი. ავირჩიოთ მხოლოდ რიცხვითი ცვლადები:"
      ]
    },
    {
      "cell_type": "code",
      "metadata": {
        "id": "Kjwcrg0ofBLv"
      },
      "source": [
        "df %>% \n",
        "select(where(is.numeric)) %>%\n",
        "summary()"
      ],
      "execution_count": null,
      "outputs": []
    },
    {
      "cell_type": "markdown",
      "metadata": {
        "id": "JdPOeazco4Q-"
      },
      "source": [
        "##### **ცვლადებისათვის სახელების შეცვლა: rename()**\n",
        "ცვალდებისათვის სახელების შეცვლა შესაძლებელია `rename` ფუნქციის საშუალებით"
      ]
    },
    {
      "cell_type": "code",
      "metadata": {
        "id": "OrupZNbLo2_V"
      },
      "source": [
        "df <- df %>%\n",
        "  rename(Int_inc = Var_1, \n",
        "         Ass = ass ) \n",
        "df %>%\n",
        "  slice_sample (n = 3)"
      ],
      "execution_count": null,
      "outputs": []
    },
    {
      "cell_type": "markdown",
      "metadata": {
        "id": "THnxKZAZpy78"
      },
      "source": [
        "#### **ახალი ცვლადების შექმნა**\n"
      ]
    },
    {
      "cell_type": "markdown",
      "metadata": {
        "id": "-czAbjAzq4KF"
      },
      "source": [
        "##### **სახელის შეცვლა Transmute ფუნქციის საშუალებით**\n",
        "თუ გვაინტერესებს მხოლოდ ახალი ცვლადი მაშინ გამოვიყენებთ `transmute` ბრძანებას:"
      ]
    },
    {
      "cell_type": "code",
      "metadata": {
        "id": "4mYb6wstqmvg"
      },
      "source": [
        "df %>% \n",
        "transmute(new_CIT_1 = CIT_1*100) %>%\n",
        "slice_sample(n=3)"
      ],
      "execution_count": null,
      "outputs": []
    },
    {
      "cell_type": "markdown",
      "metadata": {
        "id": "HhDaEXZ6fqHW"
      },
      "source": [
        "##### **Mutate() ფუნქცია**\n",
        "`Mutate` ფუნქცია საშუალებას იძლევა ორიგინალ ცვლადებზე მანიპულაციით შევქმნათ ახალი ცვლადები. იგი ხშირად იხმარება `select()` ფუნქციასთან ერთად. სინტაქსი შემდეგია:\n",
        "\n",
        "\n",
        "```\n",
        "df %>% mutate(new_col = some_operation)\n",
        "```\n",
        "\n",
        "\n",
        " მაგალითად, თუ სვეტი გამოსახულია ათწილადებში და გვინდა მათი პროცენტების სახით წარმოდგენა, შეგვიძლია სვეტი გავამრავლოთ 100-ზე:"
      ]
    },
    {
      "cell_type": "code",
      "metadata": {
        "id": "vJPcRQK3pcTw"
      },
      "source": [
        "df %>% \n",
        "mutate(CIT_1 = CIT_1*100) %>%\n",
        "slice_sample(n=3)"
      ],
      "execution_count": null,
      "outputs": []
    },
    {
      "cell_type": "markdown",
      "metadata": {
        "id": "ikJc8cFD-Oh5"
      },
      "source": [
        "###### **სვეტებში სახელების ცვლილება: recode() ფუნქცია**\n",
        "ზოგჯერ ფაქტორების სახელები ზემდეტად ბევრ ინფორმაციას შეიცავენ, რომლის განზოგადება შესაძლებელია ჩვენთვის საინტერესო ინფორმაციის შენარჩუნების პირობით. ბევრი სიმბოლოს შემცველი ფაქტორები პრობლემას ქმნიან მონაცემთა ანალიზის, განსაკუთრებით ვიზუალიზაციის დროს. R-ში შესაძლებელია ფაქტორების სახელის გადარქმევა `mutate` და `recode` ფუნქციბის საშუალებით. განვიხილოთ მაგალითი:"
      ]
    },
    {
      "cell_type": "code",
      "metadata": {
        "id": "3C92gGsa_QxE"
      },
      "source": [
        "#რადგან ჩვენ მონაცემებში ასეთი პრობლემა არ არსებობს, ჯერ ხელოვნურად \"დავაბინძუროთ მონაცემები\"\n",
        "df$Tech <- as.character(df$Tech)\n",
        "df$Tech <- ifelse(df$Bank==\"bank1\" & df$Tech=='Add', 'Add_new_branch_in_Tbilisi', df$Tech) \n",
        "df %>% slice_head(n=7)"
      ],
      "execution_count": null,
      "outputs": []
    },
    {
      "cell_type": "markdown",
      "metadata": {
        "id": "3x6_ho1UB7Xf"
      },
      "source": [
        "დავუშვათ, ანალიზისათვის ჩვენ გვაინტერესებს დაემატა თუ არა ახალი ფილიალი, ხოლო სად დაემატა ეს ჩვენთვის მნიშვნელოვანი არ არის. ამიტომ თუ `Add_new_branch_in_Tbilisi`-ს ჩავანაცვლებთ `Add`-ით ამით ინფორმაცია არ დაიკარგება. განვახორციელოთ ეს `mutate` და `recode` ფუნქციების საშუალებით:"
      ]
    },
    {
      "cell_type": "code",
      "metadata": {
        "id": "aw21NGkyCeNe"
      },
      "source": [
        "df = df %>%\n",
        "mutate(Tech = recode(Tech, #პირველი Tech არის ახალი ცვლადის სახელი, ხოლო მეორე მიუთითებს თუ რომელი ცვლადი უნდა შეიცვალოს\n",
        "  \"Add_new_branch_in_Tbilisi\" = \"Add\" # ჯერ იწერება ძველი სახელი, შემდეგ ახალი\n",
        "))\n",
        "df %>% slice_sample(n=7)\n",
        "df$Tech = as.factor(df$Tech)"
      ],
      "execution_count": null,
      "outputs": []
    },
    {
      "cell_type": "markdown",
      "metadata": {
        "id": "iEgjC7-Ty1Lf"
      },
      "source": [
        "###### **შეცდომების იდენტიფიცირება `mutate` და `nchar`-ის საშუალებით**\n",
        "დავუშვათ ვიცით, რომ რომელიმე სვეტში სიმბოლოების რაოდენობა არ უნდა აღემატებოდეს რაიმე n მნიშვნელობას და გვაქვს ეჭვი, რომ ეს მოთხოვნა დარღვეულია და ინფორმაცია არასწორად არის მოწოდებული. R-ში ამ პრობელმის იდენტიფიცირება შესაძლებელია `mutate` და `nchar` ფუნქციების საშუალებით.`nchar`-ს იგივე შინაარსი აქვს, რაც ექსელში `LEN` ფუნქციას, ანუ ითვლის სიმბოლოების რაოდენობას. \n",
        "მაგალითად, ვიცით, რომ სიმბოლოების რაოდენობა `CIT_1` ცვლადში არ უნდა იყოს 8-ზე მეტი. გადავამოწმოთ, სწორად არის თუ არა შეყვენილი ყველა სიმბოლო:"
      ]
    },
    {
      "cell_type": "code",
      "metadata": {
        "id": "zjVXv9091TKN"
      },
      "source": [
        "# ხელოვნურად შევცვალოთ მონაცემები\n",
        "df[2:5,4] <- 9999999.888\n",
        "\n",
        "df %>% \n",
        "mutate(CIT_len = nchar(CIT_1))%>% # შევქმნათ ახალი ცვლადი, რომელიც დაითვლის სიმბოლოებს\n",
        "filter(CIT_len>8) # ვნახოთ ის მონაცემები, სადაც სიმბოლოთა რაოდენობა აღემატება დასაშვებ ნორმას"
      ],
      "execution_count": null,
      "outputs": []
    },
    {
      "cell_type": "markdown",
      "metadata": {
        "id": "doDYQzdkIQgb"
      },
      "source": [
        "##### **If_else & case_when ფუნქციები**\n",
        "პირობაზე დაფუძვნებული ახალი ცვლადების შესაქმნელად ხშირად გამოიყენება `if_else` ბრძანება. მას დაახლოებით იგივე ფუნქცია აქვს, რაც excel-ის `IF` ფუნქციას. მისი გამოყენება მოსახერხებელია რაოდენობრივი ცვლადის კატეგორიულ ცვლადად გარდაქმნისათვის. `case_when` ფუნქცია მსგავსია `if_else` ფუნქციის, თუმცა მისი გამოყენება უმჯობესია, როდესაც მრავალი კატეგორიის შექმნა გვინდა. სინტაქსი ასე მოიცემა:\n",
        "\n",
        "\n",
        "```\n",
        "if_else(condition1, True, False)\n",
        "```\n",
        "\n"
      ]
    },
    {
      "cell_type": "code",
      "metadata": {
        "id": "79X3mp66Lxs1"
      },
      "source": [
        "summary(df$Depusit)\n",
        "# if_else-ის გამოყენება ორ კატეგორიანი ახალი ცვლადის შესაქმნელად\n",
        "df %>% \n",
        "mutate(cat_dep = ifelse(Depusit>1758, 'high','low')) %>%\n",
        "slice_sample(n=3)"
      ],
      "execution_count": null,
      "outputs": []
    },
    {
      "cell_type": "markdown",
      "metadata": {
        "id": "CkVUtlbFNZm6"
      },
      "source": [
        "თუ ჩვენ გვინდა, მაგალითად, ხუთი კატეგორიის შექმნა, მაშინ დაგვჭირდება ოთხი ifelse პირობის ჩაწერა. ასეთ შემთხვევაშ უმჯობესია case_when-ის გამოყენება:"
      ]
    },
    {
      "cell_type": "code",
      "metadata": {
        "id": "dS1cyL1_Noqh"
      },
      "source": [
        "df %>% mutate(cat_dep = case_when(\n",
        "Depusit < 1600 ~ \"very low\",\n",
        "Depusit >=1600 & Depusit <1700 ~ \"low\",\n",
        "Depusit >1800 & Depusit <= 1950 ~ \"high\",\n",
        "Depusit > 1950 ~ \"very high\",\n",
        "TRUE ~ \"average\"\n",
        ")) %>%\n",
        "slice_sample(n=10)\n"
      ],
      "execution_count": null,
      "outputs": []
    },
    {
      "cell_type": "markdown",
      "metadata": {
        "id": "dT3QxVkUtSie"
      },
      "source": [
        "##### **ცვლადების გაყოფა/გაერთიანება**\n",
        "ზოგჯერ განსხვავებული ინფორმაციის ცვლადები გაერთიანებულია წარმოდგენილია ერთ ცვლადად და შეერთებულია რაიმე სიმბოლოთი (მაგ: Bank1_RoU). არსებობს საპირისპირო შემთხვევაც, როდესაც ერთი შინაარსის ცვლადი გაშლილია რამდენიმე ცვალდში (მაგ: year, month, day ცალ-ცალკეა მოცემული). R-ში `separate()` და `unite` ფუნქციების საშუალებით შეგვიძლია მარტივად გადავჭრათ, შესაბამისად, გაყოფისა და გაერთიანების პრობლემები. სინტაქსი შემდეგია: \n",
        "\n",
        "\n",
        "```\n",
        "*  unite(data, col, ..., sep = \"_\", remove = TRUE)\n",
        "*  separate(data, col, into, sep = \"\", remove = TRUE)\n",
        "```\n",
        "\n"
      ]
    },
    {
      "cell_type": "code",
      "metadata": {
        "id": "HAAy52tqrZ3L"
      },
      "source": [
        "A = df %>% \n",
        "unite(col = bank_rou, c('Bank', 'RoU'), sep = '_' ) \n",
        "A %>% slice_sample(n=3)"
      ],
      "execution_count": null,
      "outputs": []
    },
    {
      "cell_type": "code",
      "metadata": {
        "id": "ib24jMOEwK3R"
      },
      "source": [
        "A %>% \n",
        "separate(bank_rou, into = c('Bank', 'RoU'), remove=T) %>%\n",
        "slice_sample(n=3)"
      ],
      "execution_count": null,
      "outputs": []
    },
    {
      "cell_type": "markdown",
      "metadata": {
        "id": "trgZV3FZvf9k"
      },
      "source": [
        "# Part 2: სტრიქონებზე ოპერაციები"
      ]
    },
    {
      "cell_type": "markdown",
      "metadata": {
        "id": "FrJA8UQYe-Lm"
      },
      "source": [
        "#### **მონაცემთა სორტირება: arrange() ფუნქცია**"
      ]
    },
    {
      "cell_type": "code",
      "metadata": {
        "id": "mTPZBINGXT-p"
      },
      "source": [
        "df %>% arrange(desc(ass),RoU) %>% #ჯერ დაალაგებს ass-ის მიხედვით კლებადობით, შემდეგ RoU-ს მიხედვით ზრდადობით\n",
        "slice_head(n=5)"
      ],
      "execution_count": null,
      "outputs": []
    },
    {
      "cell_type": "markdown",
      "metadata": {
        "id": "wbPHULRR4_ty"
      },
      "source": [
        "#### **მონაცემთა ფილტრაცია: filter() ფუნქცია**"
      ]
    },
    {
      "cell_type": "markdown",
      "metadata": {
        "id": "34ept1uzBt_t"
      },
      "source": [
        "\n",
        "\n",
        "1.   ფილტრაცია თარიღის მიხედვით\n",
        "\n",
        "\n"
      ]
    },
    {
      "cell_type": "code",
      "metadata": {
        "id": "v5S2CAEKfRGD"
      },
      "source": [
        "df %>% filter(Date < ymd(20140101)) %>% # ymd() ფუნქცია lubridate პაკეტიკად, არგუმენტს გადაიყვანს დროით ფორმატში\n",
        "arrange(CIT_1) %>%\n",
        "slice_tail(n=3)"
      ],
      "execution_count": null,
      "outputs": []
    },
    {
      "cell_type": "markdown",
      "metadata": {
        "id": "y_x1LigwB719"
      },
      "source": [
        "\n",
        "\n",
        "2.   ფილტრაცია ფაქტორების მიხედვით\n",
        "\n"
      ]
    },
    {
      "cell_type": "code",
      "metadata": {
        "id": "najBRd3U5aRP"
      },
      "source": [
        "df %>% filter(Bank == \"bank3\") %>%\n",
        "arrange(desc(RoU)) %>%\n",
        "slice_tail(n=3)"
      ],
      "execution_count": null,
      "outputs": []
    },
    {
      "cell_type": "markdown",
      "metadata": {
        "id": "wAIVkZRwCWM9"
      },
      "source": [
        "\n",
        "\n",
        "3.   ფილტრაცია რამდენიმე არგუმენტის მიხევით\n",
        "\n"
      ]
    },
    {
      "cell_type": "code",
      "metadata": {
        "id": "e8PwNvUiCOMe"
      },
      "source": [
        "df %>% filter(Bank==\"bank2\" & RoU>4.3)%>%\n",
        "arrange(RoU) %>%\n",
        "slice_head(n=3)"
      ],
      "execution_count": null,
      "outputs": []
    },
    {
      "cell_type": "markdown",
      "metadata": {
        "id": "VybI5jkZC58_"
      },
      "source": [
        "##### **`%in%` ოპერატორი და `%not_in%` ოპერატორი**\n",
        "`%in%` ოპერატორი გამოყენებით ერთი ვექტორიდან ვირჩევთ მხოლოდ იმ ელემენტებს, რომელიც მეორე ვექტორს მიეკუთვნება. მას სხვადასხვა გამოყენება აქვს, თუმცა ჩვენ გამოვიყენებთ ფილტრაციის პროცესში. "
      ]
    },
    {
      "cell_type": "code",
      "metadata": {
        "id": "3tf3vUtxCy6H"
      },
      "source": [
        "A <- df %>% \n",
        "filter(Bank %in% c('bank1', 'bank2'))\n",
        "unique(A$Bank)"
      ],
      "execution_count": null,
      "outputs": []
    },
    {
      "cell_type": "markdown",
      "metadata": {
        "id": "Oee7mZntI3rg"
      },
      "source": [
        "ზოგჯერ ჩვენთვის სასურველი კატეგორიების რაოდენობა იმდენად დიდია, რომ მათი ცალ-ცალკე ჩამოწერა არაეფექტურია. ასეთ შემთხვევაში უმჯობესია გამოვიყენოთ  `%not_in%` (not include შინაარსის) ოპერატორი. სამწუხაროდ, ასეთი ოპერატორი არ არსებობს, მაგრამ მისი შექმნა ძალიან მარტივადაა შესაძლებელი `%in%`-ის განეგატიურებით:"
      ]
    },
    {
      "cell_type": "code",
      "metadata": {
        "id": "e0emOiBHHp0W"
      },
      "source": [
        "'%not_in%' <- Negate('%in%') # გავანეგატიუროთ %in% ოპერატორი"
      ],
      "execution_count": null,
      "outputs": []
    },
    {
      "cell_type": "markdown",
      "metadata": {
        "id": "keNzHtWKJ-qd"
      },
      "source": [
        "ახლა კი შეგვიძლია მისი გამოყენება:"
      ]
    },
    {
      "cell_type": "code",
      "metadata": {
        "id": "4laKU35oIYxc"
      },
      "source": [
        "A <- df %>% filter(Region %not_in% c('East'))\n",
        "unique(A$Region)"
      ],
      "execution_count": null,
      "outputs": []
    },
    {
      "cell_type": "markdown",
      "metadata": {
        "id": "aOqdWNX9UcL_"
      },
      "source": [
        " ##### **filter_at() ფუნქცია**\n",
        "  თუ ერთად რამდენიმე ცვლადის ფილტრაცია გვინდა მაშინ შესაძლოა მოსახერხებელი იყოს `filter_at()` ფუნქციის გამოყენება. პირველ არგუმენტად ვუთითებთ რომელი ცვლადების მიხედვით უნდა მოხდეს ფილტრაცია, ხოლო მეორე არგუმენტად ვუთითებთ ფილტრაციის კრიტერიუმს. თუ მეორე არგუმენტად მითითებულია `all_vars`, მაშინ ორივე არგუმენტმა უნდა დააკმაყოფილოს პირობა, ხოლო თუ მიეთითება `any_vars`, მაშინ მხოლოდ ერთ-ერთის დაკმაყოფილებაც საკმარისია"
      ]
    },
    {
      "cell_type": "code",
      "metadata": {
        "id": "KTXV24KyKPjk"
      },
      "source": [
        "df %>% \n",
        "filter_at(vars(RoU, ass), all_vars(. < 3.9 )) %>%\n",
        "slice_head(n=4)"
      ],
      "execution_count": null,
      "outputs": []
    },
    {
      "cell_type": "markdown",
      "metadata": {
        "id": "XWigwNmQvxYl"
      },
      "source": [
        "#### **დაჯგუფება და შეჯამება: group_by() & summarise()**\n",
        "`group_by` ფუნქცია მთლიან მონაცემებს აჯგუფებს მითითებული არგუმენტის კატეგორიების მიხედვით, ხოლო `summarise()` ფუნქცია თითოული ჯგუფისათვის ითვლის რაიმე სტატისტიკას."
      ]
    },
    {
      "cell_type": "code",
      "metadata": {
        "id": "wvcR3AEU2C9s"
      },
      "source": [
        "# დავითვალოთ ბანკების მიხედვით საშუალო CIT_1\n",
        "df %>% group_by(Bank)%>%\n",
        "summarise(mean_CIT = mean(CIT_1))"
      ],
      "execution_count": null,
      "outputs": []
    },
    {
      "cell_type": "markdown",
      "metadata": {
        "id": "q2mlYbTI6kW2"
      },
      "source": [
        "დაჯგუფება შესაძლებელია რამდენიმე არგუმენტის მიხევით. მაგალითად, დავაჯგუფოთ Bank-ისა და Region-ის მიხედვით და დავითვალოთ Ass-ის საშუალო:"
      ]
    },
    {
      "cell_type": "code",
      "metadata": {
        "id": "3XAQ58l2vxAn"
      },
      "source": [
        "df %>% group_by(Bank, Region)%>%\n",
        "summarise(mean_Ass = mean(Ass, na.rm = T))"
      ],
      "execution_count": null,
      "outputs": []
    },
    {
      "cell_type": "markdown",
      "metadata": {
        "id": "1rosg9GTygq_"
      },
      "source": [
        "დავითვალოთ ბანკების მიხედვით რამდენი ახალი ოფისი  დაემატა 2016 წლის შემდეგ:"
      ]
    },
    {
      "cell_type": "code",
      "metadata": {
        "id": "pWr_5aH2zVzM"
      },
      "source": [
        "df %>% filter(Date>ymd(20151231)) %>% # დავიტოვოთ მონაცემები 2015 წლის შემდეგ\n",
        "group_by(Bank, Tech)%>% # დავაჯგუფოთ ბანკების და ტექნიკური განახლების სტატუსის მიხედვით\n",
        "drop_na() %>% # გამოტოვებული მონაცამები ამოვაგროთ\n",
        "summarise(count = n()) # n()-ის საშუალებით დავითვალოთ თითოულ ჯგუფში სტრიქონების რაოდენობა"
      ],
      "execution_count": null,
      "outputs": []
    },
    {
      "cell_type": "markdown",
      "metadata": {
        "id": "IUgynHamjdT4"
      },
      "source": [
        "დაჯგუფების შემდეგ, ასევე, შესაძლებელია რამდენიმე შეჯამების ერთდროულად დათვლა:\n"
      ]
    },
    {
      "cell_type": "code",
      "metadata": {
        "id": "WQ4XWaso7CGO"
      },
      "source": [
        "df %>% group_by(Bank)%>%\n",
        "summarise(\n",
        "  mean_Ass = mean(Ass, na.rm = T), \n",
        "  max_RoU = max(RoU),\n",
        "  sd_CIT_1 = sd(CIT_1)\n",
        ")"
      ],
      "execution_count": null,
      "outputs": []
    },
    {
      "cell_type": "markdown",
      "metadata": {
        "id": "Ha5m1W0XlBfC"
      },
      "source": [
        "#### ერთდროული ოპერაციები მრავალ სვეტზე: across ფუნქცია\n",
        "თუ ერთი და იგივე შეჯამება გვაინტერესებს მრავალ სვეტზე მაშინ `across` ფუნქცია დაგვეხმარება. `across` სჭირდება 2 არგუმენტი - სვეტების სახელები და ფუნქცია. საბაზისო სინტაქსი შემდეგია:\n",
        "\n",
        "\n",
        "```\n",
        "across(.cols, .fns)\n",
        "```\n",
        "\n"
      ]
    },
    {
      "cell_type": "code",
      "metadata": {
        "id": "9hBPaYKEj9ax"
      },
      "source": [
        "df %>% select( RoU, Ass ) %>%\n",
        "summarise(across(.cols=c(RoU, Ass), .fns = mean, na.rm = T)) # na.rm = T დაზუსტება გვჭირდება,\n",
        "# რადგან გამოტოვებული დაკვირვების დროს ვერ ხდება სტატისტიკის დათვლა"
      ],
      "execution_count": null,
      "outputs": []
    },
    {
      "cell_type": "markdown",
      "metadata": {
        "id": "IxXZh_3bstFt"
      },
      "source": [
        "სვეტების ასარჩევად შეგვიძლია გამოვიყენოთ `where(is.*)` ფუნქცია, სადაც * სვეტების ტიპს აღნიშნავს. მაგ. დავითვალოთ ყველა რიცხვითი ცვლადის საშუალო და სტანდარტული გადახრა:"
      ]
    },
    {
      "cell_type": "code",
      "metadata": {
        "id": "zG6S4g4lkZk-"
      },
      "source": [
        "df %>%\n",
        "summarise(\n",
        "  across(where(is.numeric), c(mean, sd), na.rm = T))"
      ],
      "execution_count": null,
      "outputs": []
    },
    {
      "cell_type": "markdown",
      "metadata": {
        "id": "AfScZ3FPt2H2"
      },
      "source": [
        "როგორც ვხედავთ ცვლადების დასახელებები საკმაოდ არაინფორმაციულია. დასახელებებში სტატისტიკების აღსანიშნად შემოტანილი ციფრები შეგვიძლია შევცვალოთ სტატისტიკების სახელებით და ამით ცხრილი უფრო ინფორმაციული გავხადოთ. ამისათვის საკმარისია ჩვენთვის საინტერესო სტატისტიკაბი ჩავსვათ list()-ში და დავარქვათ სახელი:"
      ]
    },
    {
      "cell_type": "code",
      "metadata": {
        "id": "_EM1BZa3tZi9"
      },
      "source": [
        "df %>%\n",
        "summarise(\n",
        "  across(where(is.numeric), list(ave=mean, std=sd), na.rm = T))"
      ],
      "execution_count": null,
      "outputs": []
    },
    {
      "cell_type": "markdown",
      "metadata": {
        "id": "bvWiu6E-u6Qi"
      },
      "source": [
        "მიღებული სახელები გაცილებით ინფორმაციულია.\n",
        "\n",
        "`across` ფუნქციის ხშირად გამოიყენება `group_by`-სთან ერთად. განვიხილოთ  მაგალითი:"
      ]
    },
    {
      "cell_type": "code",
      "metadata": {
        "id": "1AFvu0IUunT3"
      },
      "source": [
        "df %>% group_by(Bank) %>%\n",
        "summarise(\n",
        "  across(where(is.numeric), list(ave=mean, std=sd), na.rm = T))"
      ],
      "execution_count": null,
      "outputs": []
    },
    {
      "cell_type": "code",
      "metadata": {
        "id": "y2KdQZRHvj_D"
      },
      "source": [
        ""
      ],
      "execution_count": null,
      "outputs": []
    }
  ]
}